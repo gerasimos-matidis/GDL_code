{
  "nbformat": 4,
  "nbformat_minor": 0,
  "metadata": {
    "colab": {
      "name": "plot_predictions.ipynb",
      "provenance": [],
      "collapsed_sections": [],
      "authorship_tag": "ABX9TyOrYigJtjMKTXp7BCdI3aPR",
      "include_colab_link": true
    },
    "kernelspec": {
      "name": "python3",
      "display_name": "Python 3"
    },
    "language_info": {
      "name": "python"
    },
    "accelerator": "GPU"
  },
  "cells": [
    {
      "cell_type": "markdown",
      "metadata": {
        "id": "view-in-github",
        "colab_type": "text"
      },
      "source": [
        "<a href=\"https://colab.research.google.com/github/gerasimos-matidis/GDL_code/blob/master/plot_predictions.ipynb\" target=\"_parent\"><img src=\"https://colab.research.google.com/assets/colab-badge.svg\" alt=\"Open In Colab\"/></a>"
      ]
    },
    {
      "cell_type": "code",
      "source": [
        "# Mount google drive and move to the project directory\n",
        "from google.colab import drive\n",
        "drive.mount('/content/gdrive')\n",
        "\n",
        "%cd gdrive/MyDrive/my_icdar"
      ],
      "metadata": {
        "id": "XPRB_gp0d0Lo"
      },
      "execution_count": null,
      "outputs": []
    },
    {
      "cell_type": "code",
      "source": [
        "import os\n",
        "import tensorflow as tf\n",
        "from tensorflow import keras\n",
        "import matplotlib.pyplot as plt\n",
        "import matplotlib.gridspec as gridspec\n",
        "import numpy as np\n",
        "\n",
        "try:\n",
        "    from patchify import patchify\n",
        "except:\n",
        "    %pip install patchify\n",
        "    from patchify import patchify\n",
        "\n",
        "try:\n",
        "    import mpl_interactions.ipyplot as iplt\n",
        "except:\n",
        "    %pip install mpl_interactions\n",
        "    import mpl_interactions.ipyplot as iplt\n",
        "    \n",
        "from utils import center_crop, rebuild_from_patches"
      ],
      "metadata": {
        "id": "H4lLWl-XeNXF"
      },
      "execution_count": null,
      "outputs": []
    },
    {
      "cell_type": "code",
      "source": [
        "# Load the input and ground truth images \n",
        "x_initial_valid = plt.imread('validation/201-INPUT.jpg')\n",
        "y_initial_valid = plt.imread('validation/201-OUTPUT-GT.png')\n",
        "\n",
        "CROP_SIZE_W = 2560 \n",
        "CROP_SIZE_H = 2560\n",
        "\n",
        "x_initial_valid = center_crop(x_initial_valid, (CROP_SIZE_H, CROP_SIZE_W))\n",
        "y_initial_valid = center_crop(y_initial_valid, (CROP_SIZE_H, CROP_SIZE_W))"
      ],
      "metadata": {
        "id": "3p6BPqFAfiz8"
      },
      "execution_count": null,
      "outputs": []
    },
    {
      "cell_type": "code",
      "source": [
        "INPUT_SHAPE = (256, 256, 3)\n",
        "PATCHES_STEP = 128\n",
        "\n",
        "input_patches = np.squeeze(patchify(x_initial_valid, INPUT_SHAPE, step=PATCHES_STEP))\n",
        "ground_truth_patches = np.squeeze(patchify(y_initial_valid, INPUT_SHAPE[:-1], step=PATCHES_STEP))\n",
        "\n",
        "x = np.reshape(input_patches, ((-1, ) + input_patches.shape[-3:]))\n",
        "y = np.reshape(ground_truth_patches, ((-1, ) + ground_truth_patches.shape[-2:]))"
      ],
      "metadata": {
        "id": "GzablMFen8fn"
      },
      "execution_count": null,
      "outputs": []
    },
    {
      "cell_type": "code",
      "execution_count": null,
      "metadata": {
        "id": "ewwQ13xJdf93"
      },
      "outputs": [],
      "source": [
        "# Display a list with the available models and ask the user to choose which to use\n",
        "models_path = 'trained_models/cropped_001'\n",
        "models_list = os.listdir(models_path)\n",
        "models = os.listdir(models_path)\n",
        "\n",
        "predictions = []\n",
        "for modelname in models:\n",
        "    print(f'{modelname} is being loaded.')\n",
        "    model = keras.models.load_model(os.path.join(models_path, modelname))\n",
        "\n",
        "    splitted_modelname = modelname.split('_')[3:6] \n",
        "\n",
        "    d = {\n",
        "        'method': splitted_modelname[0] + ' ' + splitted_modelname[1],\n",
        "        'initial images': splitted_modelname[2].replace('initialimagesnumber', ''),\n",
        "        'model_output': np.squeeze(model.predict(x))      \n",
        "    }\n",
        "    \n",
        "    predictions.append(d)"
      ]
    },
    {
      "cell_type": "code",
      "source": [
        "np.save('predictions.npy', predictions)"
      ],
      "metadata": {
        "id": "zqvVP0XbGAOC"
      },
      "execution_count": null,
      "outputs": []
    },
    {
      "cell_type": "code",
      "source": [
        "validation_pairs = {'x': x, 'y': y}\n",
        "np.save('validation_pairs.npy', validation_pairs)"
      ],
      "metadata": {
        "id": "oWnJMEQxHkqZ"
      },
      "execution_count": null,
      "outputs": []
    }
  ]
}